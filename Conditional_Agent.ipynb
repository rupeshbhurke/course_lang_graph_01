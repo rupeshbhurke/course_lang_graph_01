{
 "cells": [
  {
   "cell_type": "code",
   "execution_count": 77,
   "id": "f005808a",
   "metadata": {},
   "outputs": [],
   "source": [
    "from typing import TypedDict, Union\n",
    "from langgraph.graph import StateGraph, START, END"
   ]
  },
  {
   "cell_type": "code",
   "execution_count": 78,
   "id": "c5b3b628",
   "metadata": {},
   "outputs": [],
   "source": [
    "class AgentState(TypedDict):\n",
    "    number1: int\n",
    "    number2: int\n",
    "    operation1: str\n",
    "    final1: int\n",
    "    number3: int\n",
    "    number4: int\n",
    "    operation2: str\n",
    "    final2: int\n"
   ]
  },
  {
   "cell_type": "code",
   "execution_count": 79,
   "id": "4fb071fd",
   "metadata": {},
   "outputs": [],
   "source": [
    "def addition_node_01(state: AgentState) -> AgentState:\n",
    "    \"\"\"Performs addion operation\"\"\"\n",
    "    state['final1'] = state['number1'] + state['number2']\n",
    "    return state\n",
    "\n",
    "def substraction_node_01(state: AgentState) -> AgentState:\n",
    "    \"\"\"Performs substraction operation\"\"\"\n",
    "    state['final1'] = state['number1'] - state['number2']\n",
    "    return state\n",
    "\n",
    "def next_node_decider_01(state: AgentState) -> Union[AgentState, str]:\n",
    "    if state['operation1'] == '+':\n",
    "        return \"plus\"\n",
    "    elif state['operation1'] == '-':\n",
    "        return \"minus\"\n",
    "    else:\n",
    "        return \"oops\"\n",
    "\n",
    "def addition_node_02(state: AgentState) -> AgentState:\n",
    "    \"\"\"Performs addion operation\"\"\"\n",
    "    state['final2'] = state['number3'] + state['number3']\n",
    "    return state\n",
    "\n",
    "def substraction_node_02(state: AgentState) -> AgentState:\n",
    "    \"\"\"Performs substraction operation\"\"\"\n",
    "    state['final2'] = state['number3'] - state['number4']\n",
    "    return state\n",
    "\n",
    "def next_node_decider_02(state: AgentState) -> Union[AgentState, str]:\n",
    "    if state['operation2'] == '+':\n",
    "        return \"plus\"\n",
    "    elif state['operation2'] == '-':\n",
    "        return \"minus\"\n",
    "    else:\n",
    "        return \"oops\""
   ]
  },
  {
   "cell_type": "code",
   "execution_count": 80,
   "id": "b756d952",
   "metadata": {},
   "outputs": [],
   "source": [
    "graph = StateGraph(AgentState)\n",
    "\n",
    "graph.add_node(\"adder1\", addition_node_01)\n",
    "graph.add_node(\"substractor1\", substraction_node_01)\n",
    "graph.add_node(\"router1\", lambda state: state)\n",
    "\n",
    "graph.add_node(\"adder2\", addition_node_02)\n",
    "graph.add_node(\"substractor2\", substraction_node_02)\n",
    "graph.add_node(\"router2\", lambda state: state)\n",
    "\n",
    "\n",
    "graph.add_edge(START, \"router1\")\n",
    "\n",
    "graph.add_conditional_edges(\n",
    "    \"router1\", \n",
    "    next_node_decider_01,\n",
    "    {\n",
    "        \"plus\": \"adder1\",\n",
    "        \"minus\" : \"substractor1\"\n",
    "    })\n",
    "\n",
    "graph.add_edge(\"adder1\", \"router2\")\n",
    "graph.add_edge(\"substractor1\", \"router2\")\n",
    "\n",
    "\n",
    "graph.add_conditional_edges(\n",
    "    \"router2\", \n",
    "    next_node_decider_02,\n",
    "    {\n",
    "        \"plus\": \"adder2\",\n",
    "        \"minus\" : \"substractor2\"\n",
    "    })\n",
    "\n",
    "graph.add_edge(\"adder2\", END)\n",
    "graph.add_edge(\"substractor2\", END)\n",
    "\n",
    "app = graph.compile()"
   ]
  },
  {
   "cell_type": "code",
   "execution_count": 81,
   "id": "50d1d431",
   "metadata": {},
   "outputs": [
    {
     "data": {
      "image/png": "[encoded data removed]",
      "text/plain": [
       "<IPython.core.display.Image object>"
      ]
     },
     "metadata": {},
     "output_type": "display_data"
    }
   ],
   "source": [
    "from IPython.display import Image, display\n",
    "display(Image(app.get_graph().draw_mermaid_png()))"
   ]
  },
  {
   "cell_type": "code",
   "execution_count": 82,
   "id": "d016e9fb",
   "metadata": {},
   "outputs": [
    {
     "data": {
      "text/plain": [
       "{'number1': 10,\n",
       " 'number2': 5,\n",
       " 'operation1': '+',\n",
       " 'final1': 15,\n",
       " 'number3': 10,\n",
       " 'number4': 5,\n",
       " 'operation2': '-',\n",
       " 'final2': 5}"
      ]
     },
     "execution_count": 82,
     "metadata": {},
     "output_type": "execute_result"
    }
   ],
   "source": [
    "plus_state = {\"number1\": 10, \"operation1\": \"+\", \"number2\": 5, \"number3\": 10, \"operation2\": \"-\", \"number4\": 5}\n",
    "plus_result = app.invoke(plus_state)\n",
    "plus_result"
   ]
  },
  {
   "cell_type": "code",
   "execution_count": 83,
   "id": "5db1bfc3",
   "metadata": {},
   "outputs": [
    {
     "data": {
      "text/plain": [
       "{'number1': 10,\n",
       " 'number2': 5,\n",
       " 'operation1': '-',\n",
       " 'final1': 5,\n",
       " 'number3': 10,\n",
       " 'number4': 5,\n",
       " 'operation2': '-',\n",
       " 'final2': 5}"
      ]
     },
     "execution_count": 83,
     "metadata": {},
     "output_type": "execute_result"
    }
   ],
   "source": [
    "minus_state = {\"number1\": 10, \"operation1\": \"-\", \"number2\": 5, \"number3\": 10, \"operation2\": \"-\", \"number4\": 5}\n",
    "minus_result = app.invoke(minus_state)\n",
    "minus_result"
   ]
  },
  {
   "cell_type": "code",
   "execution_count": null,
   "id": "aa997bd3",
   "metadata": {},
   "outputs": [],
   "source": []
  }
 ],
 "metadata": {
  "kernelspec": {
   "display_name": "Python 3 (ipykernel)",
   "language": "python",
   "name": "python3"
  },
  "language_info": {
   "codemirror_mode": {
    "name": "ipython",
    "version": 3
   },
   "file_extension": ".py",
   "mimetype": "text/x-python",
   "name": "python",
   "nbconvert_exporter": "python",
   "pygments_lexer": "ipython3",
   "version": "3.12.9"
  }
 },
 "nbformat": 4,
 "nbformat_minor": 5
}

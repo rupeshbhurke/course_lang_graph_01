{
 "cells": [
  {
   "cell_type": "code",
   "execution_count": 1,
   "id": "ebeb1678-4e77-4899-a173-a9d3807c7abb",
   "metadata": {},
   "outputs": [],
   "source": [
    "from typing import TypedDict\n",
    "from langgraph.graph import StateGraph"
   ]
  },
  {
   "cell_type": "code",
   "execution_count": 6,
   "id": "31eb6133-6d7a-44e6-bc52-7a0b8fff34c7",
   "metadata": {},
   "outputs": [],
   "source": [
    "class AgentState(TypedDict):\n",
    "    message: str\n",
    "\n",
    "\n",
    "def complimenting_node(state: AgentState) -> AgentState:\n",
    "    state['message'] = state['message'] + \"! you're doing an amazing job learning LangGraph.\"\n",
    "    return state\n"
   ]
  },
  {
   "cell_type": "code",
   "execution_count": 7,
   "id": "09feb370-d419-4235-a5c4-51793b709695",
   "metadata": {},
   "outputs": [],
   "source": [
    "graph = StateGraph(AgentState)\n",
    "\n",
    "graph.add_node(\"complimentor\", complimenting_node)\n",
    "\n",
    "graph.set_entry_point(\"complimentor\")\n",
    "graph.set_finish_point(\"complimentor\")\n",
    "\n",
    "app = graph.compile()"
   ]
  },
  {
   "cell_type": "code",
   "execution_count": 8,
   "id": "f57dd710-a0de-4281-9546-cb911b5affc2",
   "metadata": {},
   "outputs": [
    {
     "data": {
      "image/png": "[encoded data removed]",
      "text/plain": [
       "<IPython.core.display.Image object>"
      ]
     },
     "metadata": {},
     "output_type": "display_data"
    }
   ],
   "source": [
    "from IPython.display import Image, display\n",
    "\n",
    "display(Image(app.get_graph().draw_mermaid_png()))"
   ]
  },
  {
   "cell_type": "code",
   "execution_count": 9,
   "id": "ec55cb36-e856-44b7-bdae-3bb677d2eabe",
   "metadata": {},
   "outputs": [
    {
     "data": {
      "text/plain": [
       "\"Bob the Builder! you're doing an amazing job learning LangGraph.\""
      ]
     },
     "execution_count": 9,
     "metadata": {},
     "output_type": "execute_result"
    }
   ],
   "source": [
    "result = app.invoke({ \"message\": \"Bob the Builder\"})\n",
    "result[\"message\"]"
   ]
  },
  {
   "cell_type": "code",
   "execution_count": null,
   "id": "fa824781-dd77-4e5d-b3f5-3bb55d6c4843",
   "metadata": {},
   "outputs": [],
   "source": []
  }
 ],
 "metadata": {
  "kernelspec": {
   "display_name": "langgraph_250325",
   "language": "python",
   "name": "python3"
  },
  "language_info": {
   "codemirror_mode": {
    "name": "ipython",
    "version": 3
   },
   "file_extension": ".py",
   "mimetype": "text/x-python",
   "name": "python",
   "nbconvert_exporter": "python",
   "pygments_lexer": "ipython3",
   "version": "3.12.9"
  }
 },
 "nbformat": 4,
 "nbformat_minor": 5
}

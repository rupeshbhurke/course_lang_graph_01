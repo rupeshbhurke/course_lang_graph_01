{
 "cells": [
  {
   "cell_type": "code",
   "execution_count": 1,
   "id": "34028ecd-eb2e-446b-88c5-951b9ce256f6",
   "metadata": {},
   "outputs": [],
   "source": [
    "from typing import Dict, TypedDict\n",
    "from langgraph.graph import StateGraph"
   ]
  },
  {
   "cell_type": "code",
   "execution_count": 2,
   "id": "412942ce-705c-47fd-86d4-d274f3e00d5a",
   "metadata": {},
   "outputs": [],
   "source": [
    "class AgentState(TypedDict) :\n",
    "    message: str\n",
    "\n",
    "\n",
    "def greeting_node(state: AgentState) -> AgentState:\n",
    "    \"\"\" Simple node to add greeting message to state\"\"\"\n",
    "    state['message'] = f'Hey {state[\"message\"]} we welcome you.'\n",
    "    return state"
   ]
  },
  {
   "cell_type": "code",
   "execution_count": 3,
   "id": "a87e18f6-abbd-4117-9cc6-4833d5f234d1",
   "metadata": {},
   "outputs": [],
   "source": [
    "graph = StateGraph(AgentState)\n",
    "\n",
    "graph.add_node('greeter', greeting_node)\n",
    "\n",
    "graph.set_entry_point('greeter')\n",
    "graph.set_finish_point('greeter')\n",
    "\n",
    "app = graph.compile()\n"
   ]
  },
  {
   "cell_type": "code",
   "execution_count": 4,
   "id": "95f281fb-5da6-4c6f-8a50-6a4afc6a72e0",
   "metadata": {},
   "outputs": [
    {
     "data": {
      "image/png": "[encoded data removed]",
      "text/plain": [
       "<IPython.core.display.Image object>"
      ]
     },
     "metadata": {},
     "output_type": "display_data"
    }
   ],
   "source": [
    "from IPython.display import Image, display\n",
    "\n",
    "display(Image(app.get_graph().draw_mermaid_png()))"
   ]
  },
  {
   "cell_type": "code",
   "execution_count": 5,
   "id": "7cf979e0-18d4-481f-a9d7-6b58418d5b1f",
   "metadata": {},
   "outputs": [],
   "source": [
    "result = app.invoke({ 'message': 'Rupesh'})"
   ]
  },
  {
   "cell_type": "code",
   "execution_count": 6,
   "id": "fe3fb3ca-c827-484c-9d0b-f8b768958528",
   "metadata": {},
   "outputs": [
    {
     "data": {
      "text/plain": [
       "'Hey Rupesh we welcome you.'"
      ]
     },
     "execution_count": 6,
     "metadata": {},
     "output_type": "execute_result"
    }
   ],
   "source": [
    "result['message']"
   ]
  },
  {
   "cell_type": "code",
   "execution_count": null,
   "id": "4cc881bc-e6ab-4b6b-b3d7-6a7975d73abb",
   "metadata": {},
   "outputs": [],
   "source": []
  }
 ],
 "metadata": {
  "kernelspec": {
   "display_name": "langgraph_250325",
   "language": "python",
   "name": "python3"
  },
  "language_info": {
   "codemirror_mode": {
    "name": "ipython",
    "version": 3
   },
   "file_extension": ".py",
   "mimetype": "text/x-python",
   "name": "python",
   "nbconvert_exporter": "python",
   "pygments_lexer": "ipython3",
   "version": "3.12.9"
  }
 },
 "nbformat": 4,
 "nbformat_minor": 5
}

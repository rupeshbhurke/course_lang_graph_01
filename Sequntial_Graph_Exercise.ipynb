{
 "cells": [
  {
   "cell_type": "code",
   "execution_count": 1,
   "id": "f005808a",
   "metadata": {},
   "outputs": [],
   "source": [
    "from typing import Dict, List, TypedDict\n",
    "from langgraph.graph import StateGraph"
   ]
  },
  {
   "cell_type": "code",
   "execution_count": 2,
   "id": "c5b3b628",
   "metadata": {},
   "outputs": [],
   "source": [
    "class AgentState(TypedDict):\n",
    "    name: str\n",
    "    age: int\n",
    "    skills: List[str]\n",
    "    final: str"
   ]
  },
  {
   "cell_type": "code",
   "execution_count": 3,
   "id": "4fb071fd",
   "metadata": {},
   "outputs": [],
   "source": [
    "def welcome_node(state: AgentState) -> AgentState:\n",
    "    \"\"\"Welcome node in the graph.\"\"\"\n",
    "    state['final'] = f\"{state['name']}, welcome to the system!\"\n",
    "    return state\n",
    "\n",
    "def add_age_node(state: AgentState) -> AgentState:\n",
    "    \"\"\"Adds the age.\"\"\"\n",
    "    state['final'] = state['final'] + f\" You are {state['age']} years old!\"\n",
    "    return state\n",
    "\n",
    "def add_skills_node(state: AgentState) -> AgentState:\n",
    "    \"\"\"Creates string from list of skills.\"\"\"\n",
    "    # create string from list by joining items\n",
    "    skills_str: str = ', '.join(state['skills'][:-1]) + ' and ' + state['skills'][-1]\n",
    "    state['final'] = state['final'] + f\" Your skills are: {skills_str}.\"\n",
    "    return state\n"
   ]
  },
  {
   "cell_type": "code",
   "execution_count": 4,
   "id": "b756d952",
   "metadata": {},
   "outputs": [],
   "source": [
    "graph = StateGraph(AgentState)\n",
    "\n",
    "graph.add_node(\"welcome\", welcome_node)\n",
    "graph.add_node(\"add_age\", add_age_node)\n",
    "graph.add_node(\"add_skills\", add_skills_node)\n",
    "\n",
    "graph.set_entry_point(key='welcome')\n",
    "graph.add_edge(\"welcome\", \"add_age\")\n",
    "graph.add_edge(\"add_age\", \"add_skills\")\n",
    "\n",
    "graph.set_finish_point(key='add_skills')\n",
    "\n",
    "app = graph.compile()"
   ]
  },
  {
   "cell_type": "code",
   "execution_count": 5,
   "id": "50d1d431",
   "metadata": {},
   "outputs": [
    {
     "data": {
      "image/png": "[encoded data removed]",
      "text/plain": [
       "<IPython.core.display.Image object>"
      ]
     },
     "metadata": {},
     "output_type": "display_data"
    }
   ],
   "source": [
    "from IPython.display import Image, display\n",
    "\n",
    "display(Image(app.get_graph().draw_mermaid_png()))"
   ]
  },
  {
   "cell_type": "code",
   "execution_count": 8,
   "id": "d016e9fb",
   "metadata": {},
   "outputs": [],
   "source": [
    "result = app.invoke({'name': 'John Doe', 'age': 35, 'skills' : [ 'C++', 'C#', 'Python', 'AI/ML', 'LangGraph']})"
   ]
  },
  {
   "cell_type": "code",
   "execution_count": 9,
   "id": "5db1bfc3",
   "metadata": {},
   "outputs": [
    {
     "data": {
      "text/plain": [
       "{'name': 'John Doe',\n",
       " 'age': 35,\n",
       " 'skills': ['C++', 'C#', 'Python', 'AI/ML', 'LangGraph'],\n",
       " 'final': 'John Doe, welcome to the system! You are 35 years old! Your skills are: C++, C#, Python, AI/ML and LangGraph.'}"
      ]
     },
     "execution_count": 9,
     "metadata": {},
     "output_type": "execute_result"
    }
   ],
   "source": [
    "result"
   ]
  },
  {
   "cell_type": "code",
   "execution_count": null,
   "id": "aa997bd3",
   "metadata": {},
   "outputs": [],
   "source": []
  }
 ],
 "metadata": {
  "kernelspec": {
   "display_name": "Python 3 (ipykernel)",
   "language": "python",
   "name": "python3"
  },
  "language_info": {
   "codemirror_mode": {
    "name": "ipython",
    "version": 3
   },
   "file_extension": ".py",
   "mimetype": "text/x-python",
   "name": "python",
   "nbconvert_exporter": "python",
   "pygments_lexer": "ipython3",
   "version": "3.12.9"
  }
 },
 "nbformat": 4,
 "nbformat_minor": 5
}
